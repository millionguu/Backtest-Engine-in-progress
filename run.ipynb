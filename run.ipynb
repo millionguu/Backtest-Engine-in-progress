{
 "cells": [
  {
   "cell_type": "code",
   "execution_count": null,
   "metadata": {},
   "outputs": [],
   "source": [
    "from datetime import date\n",
    "from src.security_symbol import SecurityTicker\n",
    "from src.market import Market\n",
    "from src.portfolio import Portfolio\n",
    "from src.analysis import Analysis, Benchmark\n",
    "from src.metric import Metric, InformationCoefficient, HitRate\n",
    "from src.rebalance import Rebalance\n",
    "from src.strategy import StopGainAndLoss\n",
    "from src.backtest import BackTest\n",
    "from src.factor.cape import CapeFactor\n",
    "from src.fund_universe import SECTOR_ETF_TICKER"
   ]
  },
  {
   "cell_type": "code",
   "execution_count": null,
   "metadata": {},
   "outputs": [],
   "source": [
    "start_date = date(2003, 1, 1)\n",
    "end_date = date(2023, 10, 31)\n",
    "security_universe = SECTOR_ETF_TICKER\n",
    "rebalance_period = 60\n",
    "\n",
    "market = Market(security_universe, start_date, end_date)"
   ]
  },
  {
   "cell_type": "code",
   "execution_count": null,
   "metadata": {},
   "outputs": [],
   "source": [
    "### Long factor\n",
    "long_factor = CapeFactor(security_universe, \"long\")\n",
    "long_portfolio = Portfolio(100.0, start_date, end_date)\n",
    "long_factor.set_portfolio_at_start(long_portfolio)\n",
    "\n",
    "blacklist = []\n",
    "strategy = StopGainAndLoss(long_portfolio, blacklist)\n",
    "strategy.set_limit(1, 1)\n",
    "rebalance = Rebalance(rebalance_period, long_portfolio, long_factor, blacklist)\n",
    "\n",
    "backtest = BackTest(long_portfolio, strategy, market, rebalance)\n",
    "backtest.run()\n",
    "\n",
    "# print(long_portfolio.value_book)"
   ]
  },
  {
   "cell_type": "code",
   "execution_count": null,
   "metadata": {},
   "outputs": [],
   "source": [
    "### Short factor\n",
    "short_factor = CapeFactor(security_universe, \"short\")\n",
    "short_portfolio = Portfolio(100.0, start_date, end_date)\n",
    "short_factor.set_portfolio_at_start(short_portfolio)\n",
    "\n",
    "blacklist = []\n",
    "strategy = StopGainAndLoss(short_portfolio, blacklist)\n",
    "strategy.set_limit(1, 1)\n",
    "rebalance = Rebalance(rebalance_period, short_portfolio, short_factor, blacklist)\n",
    "\n",
    "backtest = BackTest(short_portfolio, strategy, market, rebalance)\n",
    "backtest.run()\n",
    "\n",
    "# print(short_portfolio.value_book)"
   ]
  },
  {
   "cell_type": "code",
   "execution_count": null,
   "metadata": {},
   "outputs": [],
   "source": [
    "### plot\n",
    "benchmark = Benchmark(SecurityTicker(\"^SPX\", \"index\"), start_date, end_date)\n",
    "\n",
    "benchmark_performance = benchmark.get_performance()\n",
    "\n",
    "metric = Metric(long_portfolio, benchmark_performance)\n",
    "print(f\"portfolio annulized return: {metric.portfolio_annualized_return()}\")\n",
    "print(\n",
    "    f\"portfolio annulized return relative to benchmark: {metric.annualized_return_relative_to_benchmark()}\"\n",
    ")\n",
    "print(f\"information ratio: {metric.information_ratio()}\")\n",
    "print(f\"average monthly turnover: {metric.avg_monthly_turnover()}\")\n",
    "print(f\"sharpe ratio(with risk-free rate 0.04): {metric.sharpe_ratio()}\")\n",
    "\n",
    "\n",
    "analysis = Analysis(\n",
    "    long_portfolio,\n",
    "    short_portfolio,\n",
    "    benchmark_performance,\n",
    "    \"SPX\",\n",
    ")\n",
    "analysis.draw()"
   ]
  },
  {
   "cell_type": "code",
   "execution_count": null,
   "metadata": {},
   "outputs": [],
   "source": [
    "ie = InformationCoefficient(long_portfolio, long_factor, market, rebalance_period)\n",
    "ie.get_information_coefficient()\n",
    "ie.draw()"
   ]
  },
  {
   "cell_type": "code",
   "execution_count": null,
   "metadata": {},
   "outputs": [],
   "source": [
    "hr = HitRate(long_portfolio, long_factor, market, rebalance_period, benchmark.benchmark)\n",
    "hr.get_hit_rate()\n",
    "hr.draw()"
   ]
  }
 ],
 "metadata": {
  "kernelspec": {
   "display_name": "Python 3 (ipykernel)",
   "language": "python",
   "name": "python3"
  },
  "language_info": {
   "codemirror_mode": {
    "name": "ipython",
    "version": 3
   },
   "file_extension": ".py",
   "mimetype": "text/x-python",
   "name": "python",
   "nbconvert_exporter": "python",
   "pygments_lexer": "ipython3",
   "version": "3.11.7"
  }
 },
 "nbformat": 4,
 "nbformat_minor": 4
}
