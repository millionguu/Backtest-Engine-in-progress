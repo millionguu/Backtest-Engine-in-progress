{
 "cells": [
  {
   "cell_type": "code",
   "execution_count": null,
   "metadata": {},
   "outputs": [],
   "source": [
    "import datetime\n",
    "\n",
    "from src.analysis import Analysis\n",
    "from src.backtest import BackTest\n",
    "from src.benchmark import Benchmark\n",
    "from src.factor.cape import CapeFactor\n",
    "from src.factor.dividend_yield import DividendYieldFactor\n",
    "from src.factor.fifty_two_week_high import FiftyTwoWeekHighFactor\n",
    "from src.factor.fifty_two_week_high_etf import FiftyTwoWeekHighEtfFactor\n",
    "from src.factor.roe import RoeFactor\n",
    "from src.factor.sales_growth import SalesGrowthFactor\n",
    "from src.fund_universe import INVESCO_SECTOR_ETF_TICKER, ISHARE_SECTOR_ETF_TICKER\n",
    "from src.market import Market\n",
    "from src.metric import HitRate, InformationCoefficient, Metric\n",
    "from src.portfolio import Portfolio\n",
    "from src.rebalance import Rebalance\n",
    "from src.security_symbol import SecurityTicker\n",
    "from src.strategy import StopGainAndLoss"
   ]
  },
  {
   "cell_type": "code",
   "execution_count": null,
   "metadata": {},
   "outputs": [],
   "source": [
    "# Setting\n",
    "start_date = datetime.date(2013, 1, 1)\n",
    "end_date = datetime.date(2023, 10, 31)\n",
    "security_universe = ISHARE_SECTOR_ETF_TICKER\n",
    "rebalance_period = 1\n",
    "rebalance_interval = \"1mo\"\n",
    "Factor = RoeFactor\n",
    "index_ticker = \"^SPXEW\" if security_universe == INVESCO_SECTOR_ETF_TICKER else \"^SPX\"\n",
    "benchmark = Benchmark(SecurityTicker(index_ticker, \"index\"), start_date, end_date)\n",
    "market = Market(security_universe, start_date, end_date)"
   ]
  },
  {
   "cell_type": "code",
   "execution_count": null,
   "metadata": {},
   "outputs": [],
   "source": [
    "### Long factor\n",
    "long_factor = Factor(security_universe, \"long\")\n",
    "long_portfolio = Portfolio(100.0, start_date, end_date)\n",
    "long_factor.set_portfolio_at_start(long_portfolio)\n",
    "\n",
    "blacklist = []\n",
    "strategy = StopGainAndLoss(long_portfolio, blacklist)\n",
    "strategy.set_limit(1, 1)\n",
    "rebalance = Rebalance(\n",
    "    rebalance_period, long_portfolio, long_factor, blacklist, rebalance_interval\n",
    ")\n",
    "\n",
    "backtest = BackTest(long_portfolio, strategy, market, rebalance)\n",
    "backtest.run()"
   ]
  },
  {
   "cell_type": "code",
   "execution_count": null,
   "metadata": {},
   "outputs": [],
   "source": [
    "### Short factor\n",
    "short_factor = Factor(security_universe, \"short\")\n",
    "short_portfolio = Portfolio(100.0, start_date, end_date)\n",
    "short_factor.set_portfolio_at_start(short_portfolio)\n",
    "\n",
    "blacklist = []\n",
    "strategy = StopGainAndLoss(short_portfolio, blacklist)\n",
    "strategy.set_limit(1, 1)\n",
    "rebalance = Rebalance(\n",
    "    rebalance_period, short_portfolio, short_factor, blacklist, rebalance_interval\n",
    ")\n",
    "\n",
    "backtest = BackTest(short_portfolio, strategy, market, rebalance)\n",
    "backtest.run()"
   ]
  },
  {
   "cell_type": "code",
   "execution_count": null,
   "metadata": {},
   "outputs": [],
   "source": [
    "### Mid factor\n",
    "mid_factor = Factor(security_universe, \"mid\")\n",
    "mid_portfolio = Portfolio(100.0, start_date, end_date)\n",
    "mid_factor.set_portfolio_at_start(mid_portfolio)\n",
    "\n",
    "blacklist = []\n",
    "strategy = StopGainAndLoss(mid_portfolio, blacklist)\n",
    "strategy.set_limit(1, 1)\n",
    "rebalance = Rebalance(\n",
    "    rebalance_period, mid_portfolio, mid_factor, blacklist, rebalance_interval\n",
    ")\n",
    "\n",
    "backtest = BackTest(mid_portfolio, strategy, market, rebalance)\n",
    "backtest.run()"
   ]
  },
  {
   "cell_type": "code",
   "execution_count": null,
   "metadata": {},
   "outputs": [],
   "source": [
    "### plot\n",
    "benchmark_performance = benchmark.get_performance()\n",
    "\n",
    "metric = Metric(long_portfolio, benchmark_performance)\n",
    "print(f\"portfolio annulized return: {metric.portfolio_annualized_return()}\")\n",
    "print(\n",
    "    f\"portfolio annulized return relative to benchmark: {metric.annualized_return_relative_to_benchmark()}\"\n",
    ")\n",
    "print(f\"information ratio: {metric.information_ratio()}\")\n",
    "print(f\"average monthly turnover: {metric.avg_monthly_turnover()}\")\n",
    "print(f\"sharpe ratio(with risk-free rate 0.04): {metric.sharpe_ratio()}\")\n",
    "\n",
    "\n",
    "analysis = Analysis(\n",
    "    long_portfolio,\n",
    "    short_portfolio,\n",
    "    benchmark_performance,\n",
    "    index_ticker[1:],\n",
    "    mid_portfolio,\n",
    ")\n",
    "analysis.draw()"
   ]
  },
  {
   "cell_type": "code",
   "execution_count": null,
   "metadata": {},
   "outputs": [],
   "source": [
    "# ie = InformationCoefficient(long_portfolio, long_factor, market, rebalance_period)\n",
    "# ie.get_information_coefficient()\n",
    "# ie.draw()"
   ]
  },
  {
   "cell_type": "code",
   "execution_count": null,
   "metadata": {},
   "outputs": [],
   "source": [
    "# hr = HitRate(long_portfolio, long_factor, market, rebalance_period, benchmark)\n",
    "# hr.get_hit_rate()\n",
    "# hr.draw()"
   ]
  }
 ],
 "metadata": {
  "kernelspec": {
   "display_name": "Python 3 (ipykernel)",
   "language": "python",
   "name": "python3"
  },
  "language_info": {
   "codemirror_mode": {
    "name": "ipython",
    "version": 3
   },
   "file_extension": ".py",
   "mimetype": "text/x-python",
   "name": "python",
   "nbconvert_exporter": "python",
   "pygments_lexer": "ipython3",
   "version": "3.12.2"
  }
 },
 "nbformat": 4,
 "nbformat_minor": 4
}
