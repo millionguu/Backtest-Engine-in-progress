{
 "cells": [
  {
   "cell_type": "code",
   "execution_count": null,
   "metadata": {},
   "outputs": [],
   "source": [
    "from datetime import date\n",
    "from src.security_symbol import SecurityTicker\n",
    "from src.market import Market\n",
    "from src.portfolio import Portfolio\n",
    "from src.analysis import Analysis, Benchmark, Metric\n",
    "from src.rebalance import Rebalance\n",
    "from src.strategy import StopGainAndLoss\n",
    "from src.backtest import BackTest\n",
    "from src.factor.sales_growth import SalesGrowthFactor\n",
    "from src.fund_universe import SECTOR_ETF_TICKER, SECTOR_ETF_LIPPER"
   ]
  },
  {
   "cell_type": "code",
   "execution_count": null,
   "metadata": {},
   "outputs": [],
   "source": [
    "start_date = date.fromisoformat(\"2013-01-01\")\n",
    "end_date = date.fromisoformat(\"2023-10-01\")\n",
    "security_universe = SECTOR_ETF_LIPPER\n",
    "\n",
    "market = Market(security_universe, start_date, end_date)"
   ]
  },
  {
   "cell_type": "code",
   "execution_count": null,
   "metadata": {},
   "outputs": [],
   "source": [
    "### Long factor\n",
    "long_factor = SalesGrowthFactor(security_universe, start_date, end_date, \"long\")\n",
    "long_portfolio = Portfolio(100.0, start_date, end_date)\n",
    "long_factor.set_portfolio_at_start(long_portfolio)\n",
    "\n",
    "blacklist = []\n",
    "strategy = StopGainAndLoss(long_portfolio, blacklist)\n",
    "strategy.set_limit(0.5, 0.3)\n",
    "rebalance = Rebalance(30, long_portfolio, long_factor, blacklist)\n",
    "\n",
    "backtest = BackTest(long_portfolio, strategy, market, rebalance)\n",
    "backtest.run()\n",
    "\n",
    "# print(long_portfolio.value_book)"
   ]
  },
  {
   "cell_type": "code",
   "execution_count": null,
   "metadata": {},
   "outputs": [],
   "source": [
    "### Short factor\n",
    "short_factor = SalesGrowthFactor(security_universe, start_date, end_date, \"short\")\n",
    "short_portfolio = Portfolio(100.0, start_date, end_date)\n",
    "short_factor.set_portfolio_at_start(short_portfolio)\n",
    "\n",
    "blacklist = []\n",
    "strategy = StopGainAndLoss(short_portfolio, blacklist)\n",
    "strategy.set_limit(0.5, 0.3)\n",
    "rebalance = Rebalance(30, short_portfolio, short_factor, blacklist)\n",
    "\n",
    "backtest = BackTest(short_portfolio, strategy, market, rebalance)\n",
    "backtest.run()\n",
    "\n",
    "# print(short_portfolio.value_book)"
   ]
  },
  {
   "cell_type": "code",
   "execution_count": null,
   "metadata": {},
   "outputs": [],
   "source": [
    "### plot\n",
    "benchmark = Benchmark(\n",
    "    SecurityTicker(\"SPX\", \"index\"), start_date, end_date\n",
    ").get_performance()\n",
    "\n",
    "metric = Metric(long_portfolio, benchmark)\n",
    "print(f\"portfolio annulized return: {metric.annualized_return()}\")\n",
    "print(\n",
    "    f\"portfolio annulized return relative to benchmark: {metric.annualized_return_relative_to_benchmark()}\"\n",
    ")\n",
    "print(f\"information ratio: {metric.information_ratio()}\")\n",
    "\n",
    "analysis = Analysis(\n",
    "    long_portfolio,\n",
    "    short_portfolio,\n",
    "    benchmark,\n",
    "    \"SPX\",\n",
    ")\n",
    "analysis.draw()\n"
   ]
  }
 ],
 "metadata": {
  "kernelspec": {
   "display_name": "Python 3 (ipykernel)",
   "language": "python",
   "name": "python3"
  },
  "language_info": {
   "codemirror_mode": {
    "name": "ipython",
    "version": 3
   },
   "file_extension": ".py",
   "mimetype": "text/x-python",
   "name": "python",
   "nbconvert_exporter": "python",
   "pygments_lexer": "ipython3",
   "version": "3.11.7"
  }
 },
 "nbformat": 4,
 "nbformat_minor": 4
}
