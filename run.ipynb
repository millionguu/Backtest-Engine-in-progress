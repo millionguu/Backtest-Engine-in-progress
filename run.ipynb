{
 "cells": [
  {
   "cell_type": "code",
   "execution_count": null,
   "metadata": {},
   "outputs": [],
   "source": [
    "import datetime\n",
    "\n",
    "from src.analysis.metric import Metric\n",
    "from src.analysis.plot import Plot\n",
    "from src.backtest import BackTest\n",
    "from src.benchmark import Benchmark\n",
    "from src.factor.cape import CapeFactor\n",
    "from src.factor.dividend_yield import DividendYieldFactor\n",
    "from src.factor.fifty_two_week_high import FiftyTwoWeekHighFactor\n",
    "from src.factor.fifty_two_week_high_etf import FiftyTwoWeekHighEtfFactor\n",
    "from src.factor.roe import RoeFactor\n",
    "from src.factor.sales_growth import SalesGrowthFactor\n",
    "from src.factor.volume import VolumeFactor\n",
    "from src.factor_aggregator.lasso_aggregator import LassoAggregator\n",
    "from src.factor_aggregator.simple_average_aggregator import SimpleAverageAggregator\n",
    "from src.factor_aggregator.weighted_average_aggregator import WeightedAverageAggregator\n",
    "from src.fund_universe import INVESCO_SECTOR_ETF_TICKER, ISHARE_SECTOR_ETF_TICKER\n",
    "from src.market import Market\n",
    "from src.portfolio import Portfolio\n",
    "from src.rebalance import Rebalance\n",
    "from src.security_symbol import SecurityTicker\n",
    "from src.strategy import StopGainAndLoss"
   ]
  },
  {
   "cell_type": "code",
   "execution_count": null,
   "metadata": {},
   "outputs": [],
   "source": [
    "# Setting\n",
    "start_date = datetime.date(2013, 12, 31)\n",
    "end_date = datetime.date(2023, 10, 31)\n",
    "security_universe = ISHARE_SECTOR_ETF_TICKER\n",
    "rebalance_period = 1\n",
    "rebalance_interval = \"1mo\"\n",
    "Factor = LassoAggregator\n",
    "index_ticker = \"^SPXEW\" if security_universe == INVESCO_SECTOR_ETF_TICKER else \"^SPX\"\n",
    "benchmark = Benchmark(SecurityTicker(index_ticker, \"index\"), start_date, end_date)\n",
    "market = Market(security_universe, start_date, end_date)"
   ]
  },
  {
   "cell_type": "code",
   "execution_count": null,
   "metadata": {},
   "outputs": [],
   "source": [
    "### Long factor\n",
    "long_factor = Factor(security_universe, \"long\")\n",
    "long_portfolio = Portfolio(100.0, start_date, end_date)\n",
    "long_factor.set_portfolio_at_start(long_portfolio)\n",
    "\n",
    "blacklist = []\n",
    "strategy = StopGainAndLoss(long_portfolio, blacklist)\n",
    "strategy.set_limit(1, 1)\n",
    "rebalance = Rebalance(\n",
    "    rebalance_period, long_portfolio, long_factor, blacklist, rebalance_interval\n",
    ")\n",
    "\n",
    "backtest = BackTest(long_portfolio, strategy, market, rebalance)\n",
    "backtest.run()"
   ]
  },
  {
   "cell_type": "code",
   "execution_count": null,
   "metadata": {},
   "outputs": [],
   "source": [
    "### Short factor\n",
    "short_factor = Factor(security_universe, \"short\")\n",
    "short_portfolio = Portfolio(100.0, start_date, end_date)\n",
    "short_factor.set_portfolio_at_start(short_portfolio)\n",
    "\n",
    "blacklist = []\n",
    "strategy = StopGainAndLoss(short_portfolio, blacklist)\n",
    "strategy.set_limit(1, 1)\n",
    "rebalance = Rebalance(\n",
    "    rebalance_period, short_portfolio, short_factor, blacklist, rebalance_interval\n",
    ")\n",
    "\n",
    "backtest = BackTest(short_portfolio, strategy, market, rebalance)\n",
    "backtest.run()"
   ]
  },
  {
   "cell_type": "code",
   "execution_count": null,
   "metadata": {},
   "outputs": [],
   "source": [
    "### Mid factor\n",
    "mid_factor = Factor(security_universe, \"mid\")\n",
    "mid_portfolio = Portfolio(100.0, start_date, end_date)\n",
    "mid_factor.set_portfolio_at_start(mid_portfolio)\n",
    "\n",
    "blacklist = []\n",
    "strategy = StopGainAndLoss(mid_portfolio, blacklist)\n",
    "strategy.set_limit(1, 1)\n",
    "rebalance = Rebalance(\n",
    "    rebalance_period, mid_portfolio, mid_factor, blacklist, rebalance_interval\n",
    ")\n",
    "\n",
    "backtest = BackTest(mid_portfolio, strategy, market, rebalance)\n",
    "backtest.run()"
   ]
  },
  {
   "cell_type": "code",
   "execution_count": null,
   "metadata": {},
   "outputs": [],
   "source": [
    "### Metric\n",
    "benchmark_performance = benchmark.get_performance()\n",
    "long_metric = Metric(long_portfolio.value_book, benchmark_performance)\n",
    "print(long_metric.portfolio_annual_return_report())"
   ]
  },
  {
   "cell_type": "code",
   "execution_count": null,
   "metadata": {},
   "outputs": [],
   "source": [
    "print(long_metric.t_test_against_benchmark(\"day\"))\n",
    "print(long_metric.t_test_against_benchmark(\"month\"))\n",
    "print(long_metric.t_test_against_benchmark(\"year\"))"
   ]
  },
  {
   "cell_type": "code",
   "execution_count": null,
   "metadata": {},
   "outputs": [],
   "source": [
    "### plot\n",
    "plot = Plot(\n",
    "    long_portfolio,\n",
    "    short_portfolio,\n",
    "    benchmark_performance,\n",
    "    index_ticker[1:],\n",
    "    mid_portfolio,\n",
    ")\n",
    "plot.draw()"
   ]
  },
  {
   "cell_type": "code",
   "execution_count": null,
   "metadata": {},
   "outputs": [],
   "source": [
    "plot.draw_absolute()"
   ]
  }
 ],
 "metadata": {
  "kernelspec": {
   "display_name": "Python 3 (ipykernel)",
   "language": "python",
   "name": "python3"
  },
  "language_info": {
   "codemirror_mode": {
    "name": "ipython",
    "version": 3
   },
   "file_extension": ".py",
   "mimetype": "text/x-python",
   "name": "python",
   "nbconvert_exporter": "python",
   "pygments_lexer": "ipython3",
   "version": "3.12.3"
  }
 },
 "nbformat": 4,
 "nbformat_minor": 4
}
