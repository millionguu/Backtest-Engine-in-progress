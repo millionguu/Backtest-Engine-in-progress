{
 "cells": [
  {
   "cell_type": "code",
   "execution_count": 1,
   "metadata": {},
   "outputs": [],
   "source": [
    "from datetime import date\n",
    "from src.market import Market\n",
    "from src.portfolio import Portfolio\n",
    "from src.analysis import Analysis, Benchmark, Metric\n",
    "from src.rebalance import Rebalance\n",
    "from src.strategy import StopGainAndLoss\n",
    "from src.backtest import BackTest\n",
    "from src.factor.sales_growth import SalesGrowthFactor\n",
    "from src.factor.const import SECTOR_ETF"
   ]
  },
  {
   "cell_type": "code",
   "execution_count": 2,
   "metadata": {},
   "outputs": [],
   "source": [
    "start_date = date.fromisoformat(\"2022-01-01\")\n",
    "end_date = date.fromisoformat(\"2023-10-21\")\n",
    "security_universe = SECTOR_ETF\n",
    "\n",
    "market = Market(security_universe)"
   ]
  },
  {
   "cell_type": "code",
   "execution_count": 3,
   "metadata": {},
   "outputs": [
    {
     "name": "stdout",
     "output_type": "stream",
     "text": [
      "rebalance on 2022-01-03: [('XLY', -0.009044797322102505), ('VNQ', -0.0009552026778974487)]\n",
      "rebalance on 2022-03-30: [('XLY', -0.4835865633900216), ('VNQ', -0.01564606643824218), ('XLF', 0.5)]\n",
      "rebalance on 2022-06-27: [('VNQ', -0.006936033981127354), ('XLF', 0.008826619697691662)]\n",
      "rebalance on 2022-09-21: [('VNQ', -0.4719801088493264), ('XLF', -0.017675625521206828), ('XLU', 0.49)]\n",
      "rebalance on 2022-12-15: [('XLF', -0.018083204974613354), ('XLU', 0.017874306792426964)]\n",
      "rebalance on 2023-03-15: [('XLU', -0.49330713479694493), ('XLF', -0.0060336286736862865), ('XLP', 0.5)]\n",
      "rebalance on 2023-06-09: [('XLF', -0.5017901634614006), ('XLP', 0.011445342212476561), ('XLV', 0.49)]\n",
      "rebalance on 2023-09-06: [('XLV', -0.49696062914226236), ('XLP', -0.49301956335835245), ('XTL', 0.49), ('XLK', 0.5)]\n"
     ]
    }
   ],
   "source": [
    "### Long factor\n",
    "long_factor = SalesGrowthFactor(security_universe, start_date, end_date, \"long\", 12)\n",
    "long_position = long_factor.get_position(start_date)\n",
    "long_portfolio = Portfolio(100.0, start_date, end_date)\n",
    "long_factor.set_portfolio_at_start(long_portfolio, long_position)\n",
    "\n",
    "blacklist = []\n",
    "strategy = StopGainAndLoss(long_portfolio, blacklist)\n",
    "strategy.set_limit(0.3, 0.3)\n",
    "rebalance = Rebalance(60, long_portfolio, long_factor, blacklist)\n",
    "\n",
    "backtest = BackTest(long_portfolio, strategy, market, rebalance)\n",
    "backtest.run()\n",
    "\n",
    "# print(long_portfolio.value_book)"
   ]
  },
  {
   "cell_type": "code",
   "execution_count": null,
   "metadata": {},
   "outputs": [
    {
     "name": "stdout",
     "output_type": "stream",
     "text": [
      "rebalance on 2022-01-03: [('XLP', -0.008497149348843935), ('XTL', -0.0015028506511560735)]\n",
      "rebalance on 2022-03-30: [('XLP', -0.5101929285970792), ('XTL', 0.010698358524716345), ('XLV', 0.5)]\n",
      "rebalance on 2022-06-27: [('XLV', -0.5194968994700575), ('XTL', 0.03053408056630963), ('XLI', 0.49)]\n",
      "rebalance on 2022-09-21: [('XTL', -0.49959601664642345), ('XLI', -0.00034022645612141744), ('XLK', 0.5)]\n"
     ]
    }
   ],
   "source": [
    "### Short factor\n",
    "short_factor = SalesGrowthFactor(security_universe, start_date, end_date, \"short\", 12)\n",
    "short_position = short_factor.get_position(start_date)\n",
    "short_portfolio = Portfolio(100.0, start_date, end_date)\n",
    "short_factor.set_portfolio_at_start(short_portfolio, short_position)\n",
    "\n",
    "blacklist = []\n",
    "strategy = StopGainAndLoss(short_portfolio, blacklist)\n",
    "strategy.set_limit(0.3, 0.3)\n",
    "rebalance = Rebalance(60, short_portfolio, short_factor, blacklist)\n",
    "\n",
    "backtest = BackTest(short_portfolio, strategy, market, rebalance)\n",
    "backtest.run()\n",
    "\n",
    "# print(short_portfolio.value_book)"
   ]
  },
  {
   "cell_type": "code",
   "execution_count": null,
   "metadata": {},
   "outputs": [],
   "source": [
    "### plot\n",
    "import matplotlib.pyplot as plt\n",
    "\n",
    "%matplotlib inline\n",
    "benchmark = Benchmark(\"^SPX\", start_date, end_date).get_performance()\n",
    "\n",
    "metric = Metric(long_portfolio, benchmark)\n",
    "print(f\"portfolio annulized return: {metric.annualized_return()}\")\n",
    "print(\n",
    "    f\"portfolio annulized return relative to benchmark: {metric.annualized_return_relative_to_benchmark()}\"\n",
    ")\n",
    "print(f\"information ratio: {metric.information_ratio()}\")\n",
    "\n",
    "analysis = Analysis(\n",
    "    long_portfolio,\n",
    "    short_portfolio,\n",
    "    benchmark,\n",
    "    \"SPX\",\n",
    ")\n",
    "analysis.draw()\n",
    "\n",
    "plt.show()"
   ]
  }
 ],
 "metadata": {
  "kernelspec": {
   "display_name": "Python 3 (ipykernel)",
   "language": "python",
   "name": "python3"
  },
  "language_info": {
   "codemirror_mode": {
    "name": "ipython",
    "version": 3
   },
   "file_extension": ".py",
   "mimetype": "text/x-python",
   "name": "python",
   "nbconvert_exporter": "python",
   "pygments_lexer": "ipython3",
   "version": "3.11.7"
  }
 },
 "nbformat": 4,
 "nbformat_minor": 4
}
